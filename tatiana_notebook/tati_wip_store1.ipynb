{
 "cells": [
  {
   "cell_type": "code",
   "execution_count": 3,
   "metadata": {},
   "outputs": [],
   "source": [
    "# import required libraries\n",
    "import pandas as pd\n",
    "from pathlib import Path\n",
    "import matplotlib.pyplot as plt\n",
    "import numpy as np\n",
    "import bokeh as bokeh\n",
    "from bokeh.plotting import figure, show\n",
    "from bokeh.io import output_notebook\n",
    "from bokeh.models import ColumnDataSource\n",
    "from prophet import Prophet\n",
    "from sklearn.linear_model import LinearRegression"
   ]
  },
  {
   "cell_type": "code",
   "execution_count": 5,
   "metadata": {},
   "outputs": [],
   "source": [
    "file_path_store1 = Path('../data/store1_data.csv')\n",
    "\n",
    "df_store1_data = pd.read_csv(file_path_store1)\n",
    "\n",
    "df_store1_data = df_store1_data.dropna()"
   ]
  },
  {
   "cell_type": "code",
   "execution_count": 6,
   "metadata": {},
   "outputs": [],
   "source": [
    "\n",
    "df_store1_data['date'] = pd.to_datetime(df_store1_data['date'])\n",
    "\n",
    "df_store1_data['date_numeric'] = df_store1_data['date'].astype('int64')\n"
   ]
  },
  {
   "cell_type": "code",
   "execution_count": null,
   "metadata": {},
   "outputs": [],
   "source": [
    "df_store1_data.info()"
   ]
  },
  {
   "cell_type": "code",
   "execution_count": null,
   "metadata": {},
   "outputs": [],
   "source": [
    "df_store1_data.plot.scatter(\n",
    "    x = 'date'   ,\n",
    "    y = 'Sales'     ,\n",
    "    title = 'Expected Sales based on date'\n",
    ")\n"
   ]
  },
  {
   "cell_type": "code",
   "execution_count": null,
   "metadata": {},
   "outputs": [],
   "source": [
    "df_store1_data.plot.scatter(\n",
    "    x = 'date'   ,\n",
    "    y = 'Gallons'     ,\n",
    "    title = 'Expected Sales based on date'\n",
    ")"
   ]
  },
  {
   "cell_type": "code",
   "execution_count": null,
   "metadata": {},
   "outputs": [],
   "source": [
    "X = df_store1_data[['date_numeric']].values.reshape(-1,1)\n",
    "\n",
    "X[:5]"
   ]
  },
  {
   "cell_type": "code",
   "execution_count": null,
   "metadata": {},
   "outputs": [],
   "source": [
    "y = df_store1_data['Sales']"
   ]
  },
  {
   "cell_type": "code",
   "execution_count": null,
   "metadata": {},
   "outputs": [],
   "source": [
    "model = LinearRegression()\n",
    "model.fit(X, y)"
   ]
  },
  {
   "cell_type": "code",
   "execution_count": null,
   "metadata": {},
   "outputs": [],
   "source": [
    "print(f\"Model's slope: {model.coef_}\")\n",
    "\n",
    "print(f\"Model's y-intercept: {model.intercept_}\")\n",
    "\n",
    "print(f\"Model's formula: y = {model.intercept_} + {model.coef_[0]}X\")"
   ]
  },
  {
   "cell_type": "code",
   "execution_count": null,
   "metadata": {},
   "outputs": [],
   "source": [
    "predicted_y_values = model.predict(X)"
   ]
  },
  {
   "cell_type": "code",
   "execution_count": null,
   "metadata": {},
   "outputs": [],
   "source": [
    "\n",
    "df_store1_predicted = df_store1_data.copy()\n",
    "\n",
    "df_store1_predicted[\"sales_predicted\"] = predicted_y_values\n",
    "\n",
    "df_store1_predicted.head()"
   ]
  },
  {
   "cell_type": "code",
   "execution_count": null,
   "metadata": {},
   "outputs": [],
   "source": [
    "# Create a line plot of the predicted sales values\n",
    "best_fit_line = df_store1_predicted.plot.line(\n",
    "    x = \"date\",\n",
    "    y = \"sales_predicted\",\n",
    "    color = \"purple\"\n",
    ")\n",
    "best_fit_line"
   ]
  },
  {
   "cell_type": "code",
   "execution_count": null,
   "metadata": {},
   "outputs": [],
   "source": [
    "predicted_y_gallon_values = model.predict(X)\n",
    "\n",
    "df_store1_gallons_predicted = df_store1_data.copy()\n",
    "\n",
    "df_store1_gallons_predicted[\"gallons_predicted\"] = predicted_y_gallon_values\n",
    "\n",
    "df_store1_gallons_predicted.head()\n",
    "\n",
    "best_fit_line_gallons = df_store1_gallons_predicted.plot.line(\n",
    "    x = \"date\",\n",
    "    y = \"gallons_predicted\",\n",
    "    color = \"blue\"\n",
    ")\n",
    "best_fit_line_gallons"
   ]
  }
 ],
 "metadata": {
  "kernelspec": {
   "display_name": "base",
   "language": "python",
   "name": "python3"
  },
  "language_info": {
   "codemirror_mode": {
    "name": "ipython",
    "version": 3
   },
   "file_extension": ".py",
   "mimetype": "text/x-python",
   "name": "python",
   "nbconvert_exporter": "python",
   "pygments_lexer": "ipython3",
   "version": "3.11.5"
  }
 },
 "nbformat": 4,
 "nbformat_minor": 2
}
